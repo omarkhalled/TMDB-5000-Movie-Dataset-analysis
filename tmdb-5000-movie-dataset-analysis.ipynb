{
 "cells": [
  {
   "cell_type": "markdown",
   "id": "f6c74289",
   "metadata": {
    "papermill": {
     "duration": 0.028829,
     "end_time": "2021-11-03T20:21:26.449611",
     "exception": false,
     "start_time": "2021-11-03T20:21:26.420782",
     "status": "completed"
    },
    "tags": []
   },
   "source": [
    "# Project: TMDB 5000 Movie Dataset\n",
    "\n",
    "## Table of Contents\n",
    "<ul>\n",
    "<li><a href=\"#intro\">Introduction</a></li>\n",
    "<li><a href=\"#packages\">Import Packages</a></li>    \n",
    "<li><a href=\"#wrangling\">Data Wrangling</a></li>\n",
    "<li><a href=\"#eda\">Exploratory Data Analysis</a></li>\n",
    "<li><a href=\"#conclusions\">Conclusions</a></li>\n",
    "</ul>"
   ]
  },
  {
   "cell_type": "markdown",
   "id": "4e9f8fb1",
   "metadata": {
    "papermill": {
     "duration": 0.027612,
     "end_time": "2021-11-03T20:21:26.505545",
     "exception": false,
     "start_time": "2021-11-03T20:21:26.477933",
     "status": "completed"
    },
    "tags": []
   },
   "source": [
    "<a id='intro'></a>\n",
    "## Introduction\n",
    "\n",
    "> This data set contains information about 5000 movies collected from The Movie Database (TMDb),including user ratings and revenue.\n",
    "\n",
    "### What we can do ?\n",
    "> We can exploare this dataset and asking some important questions that can be answered given this information \n",
    " like..\n",
    "> <ul> \n",
    "    <li>Which genres are most popular from year to year ?</li>\n",
    "    <li>Which movie have high popularity over this years ?</li>\n",
    "    <li>What kinds of properties are associated with movies that have high revenues ?</li>\n",
    "    <li>Is there a relation between budget and revenue ?</li>\n",
    "  </ul>"
   ]
  },
  {
   "cell_type": "markdown",
   "id": "efb7f297",
   "metadata": {
    "papermill": {
     "duration": 0.027391,
     "end_time": "2021-11-03T20:21:26.560218",
     "exception": false,
     "start_time": "2021-11-03T20:21:26.532827",
     "status": "completed"
    },
    "tags": []
   },
   "source": [
    "<a id='packages'></a>\n",
    "## Import Packages"
   ]
  },
  {
   "cell_type": "markdown",
   "id": "19ed61a6",
   "metadata": {
    "papermill": {
     "duration": 0.027801,
     "end_time": "2021-11-03T20:21:26.615824",
     "exception": false,
     "start_time": "2021-11-03T20:21:26.588023",
     "status": "completed"
    },
    "tags": []
   },
   "source": [
    "> In this section we will import necessary packages and vistualization packages to make the process enjoyable and give us valuable insights"
   ]
  },
  {
   "cell_type": "code",
   "execution_count": 1,
   "id": "d9a265d9",
   "metadata": {
    "execution": {
     "iopub.execute_input": "2021-11-03T20:21:26.676544Z",
     "iopub.status.busy": "2021-11-03T20:21:26.675094Z",
     "iopub.status.idle": "2021-11-03T20:21:26.686079Z",
     "shell.execute_reply": "2021-11-03T20:21:26.686502Z",
     "shell.execute_reply.started": "2021-11-03T20:20:17.282520Z"
    },
    "papermill": {
     "duration": 0.042837,
     "end_time": "2021-11-03T20:21:26.686731",
     "exception": false,
     "start_time": "2021-11-03T20:21:26.643894",
     "status": "completed"
    },
    "tags": []
   },
   "outputs": [],
   "source": [
    "import pandas as pd\n",
    "import matplotlib.pyplot as plt\n",
    "import json"
   ]
  },
  {
   "cell_type": "markdown",
   "id": "84ffc40f",
   "metadata": {
    "papermill": {
     "duration": 0.028306,
     "end_time": "2021-11-03T20:21:26.743748",
     "exception": false,
     "start_time": "2021-11-03T20:21:26.715442",
     "status": "completed"
    },
    "tags": []
   },
   "source": [
    "<a id='wrangling'></a>\n",
    "## Data Wrangling\n",
    "\n",
    "> In this section of the report, We will load the data, check for cleanliness, and then trim and clean our dataset for analysis."
   ]
  },
  {
   "cell_type": "code",
   "execution_count": 2,
   "id": "b1bfe9f3",
   "metadata": {
    "execution": {
     "iopub.execute_input": "2021-11-03T20:21:26.801383Z",
     "iopub.status.busy": "2021-11-03T20:21:26.800735Z",
     "iopub.status.idle": "2021-11-03T20:21:27.007616Z",
     "shell.execute_reply": "2021-11-03T20:21:27.007989Z",
     "shell.execute_reply.started": "2021-11-03T20:20:17.288875Z"
    },
    "papermill": {
     "duration": 0.236791,
     "end_time": "2021-11-03T20:21:27.008124",
     "exception": false,
     "start_time": "2021-11-03T20:21:26.771333",
     "status": "completed"
    },
    "tags": []
   },
   "outputs": [
    {
     "data": {
      "text/html": [
       "<div>\n",
       "<style scoped>\n",
       "    .dataframe tbody tr th:only-of-type {\n",
       "        vertical-align: middle;\n",
       "    }\n",
       "\n",
       "    .dataframe tbody tr th {\n",
       "        vertical-align: top;\n",
       "    }\n",
       "\n",
       "    .dataframe thead th {\n",
       "        text-align: right;\n",
       "    }\n",
       "</style>\n",
       "<table border=\"1\" class=\"dataframe\">\n",
       "  <thead>\n",
       "    <tr style=\"text-align: right;\">\n",
       "      <th></th>\n",
       "      <th>budget</th>\n",
       "      <th>genres</th>\n",
       "      <th>homepage</th>\n",
       "      <th>id</th>\n",
       "      <th>keywords</th>\n",
       "      <th>original_language</th>\n",
       "      <th>original_title</th>\n",
       "      <th>overview</th>\n",
       "      <th>popularity</th>\n",
       "      <th>production_companies</th>\n",
       "      <th>production_countries</th>\n",
       "      <th>release_date</th>\n",
       "      <th>revenue</th>\n",
       "      <th>runtime</th>\n",
       "      <th>spoken_languages</th>\n",
       "      <th>status</th>\n",
       "      <th>tagline</th>\n",
       "      <th>title</th>\n",
       "      <th>vote_average</th>\n",
       "      <th>vote_count</th>\n",
       "    </tr>\n",
       "  </thead>\n",
       "  <tbody>\n",
       "    <tr>\n",
       "      <th>0</th>\n",
       "      <td>237000000</td>\n",
       "      <td>[{\"id\": 28, \"name\": \"Action\"}, {\"id\": 12, \"nam...</td>\n",
       "      <td>http://www.avatarmovie.com/</td>\n",
       "      <td>19995</td>\n",
       "      <td>[{\"id\": 1463, \"name\": \"culture clash\"}, {\"id\":...</td>\n",
       "      <td>en</td>\n",
       "      <td>Avatar</td>\n",
       "      <td>In the 22nd century, a paraplegic Marine is di...</td>\n",
       "      <td>150.437577</td>\n",
       "      <td>[{\"name\": \"Ingenious Film Partners\", \"id\": 289...</td>\n",
       "      <td>[{\"iso_3166_1\": \"US\", \"name\": \"United States o...</td>\n",
       "      <td>2009-12-10</td>\n",
       "      <td>2787965087</td>\n",
       "      <td>162.0</td>\n",
       "      <td>[{\"iso_639_1\": \"en\", \"name\": \"English\"}, {\"iso...</td>\n",
       "      <td>Released</td>\n",
       "      <td>Enter the World of Pandora.</td>\n",
       "      <td>Avatar</td>\n",
       "      <td>7.2</td>\n",
       "      <td>11800</td>\n",
       "    </tr>\n",
       "    <tr>\n",
       "      <th>1</th>\n",
       "      <td>300000000</td>\n",
       "      <td>[{\"id\": 12, \"name\": \"Adventure\"}, {\"id\": 14, \"...</td>\n",
       "      <td>http://disney.go.com/disneypictures/pirates/</td>\n",
       "      <td>285</td>\n",
       "      <td>[{\"id\": 270, \"name\": \"ocean\"}, {\"id\": 726, \"na...</td>\n",
       "      <td>en</td>\n",
       "      <td>Pirates of the Caribbean: At World's End</td>\n",
       "      <td>Captain Barbossa, long believed to be dead, ha...</td>\n",
       "      <td>139.082615</td>\n",
       "      <td>[{\"name\": \"Walt Disney Pictures\", \"id\": 2}, {\"...</td>\n",
       "      <td>[{\"iso_3166_1\": \"US\", \"name\": \"United States o...</td>\n",
       "      <td>2007-05-19</td>\n",
       "      <td>961000000</td>\n",
       "      <td>169.0</td>\n",
       "      <td>[{\"iso_639_1\": \"en\", \"name\": \"English\"}]</td>\n",
       "      <td>Released</td>\n",
       "      <td>At the end of the world, the adventure begins.</td>\n",
       "      <td>Pirates of the Caribbean: At World's End</td>\n",
       "      <td>6.9</td>\n",
       "      <td>4500</td>\n",
       "    </tr>\n",
       "    <tr>\n",
       "      <th>2</th>\n",
       "      <td>245000000</td>\n",
       "      <td>[{\"id\": 28, \"name\": \"Action\"}, {\"id\": 12, \"nam...</td>\n",
       "      <td>http://www.sonypictures.com/movies/spectre/</td>\n",
       "      <td>206647</td>\n",
       "      <td>[{\"id\": 470, \"name\": \"spy\"}, {\"id\": 818, \"name...</td>\n",
       "      <td>en</td>\n",
       "      <td>Spectre</td>\n",
       "      <td>A cryptic message from Bond’s past sends him o...</td>\n",
       "      <td>107.376788</td>\n",
       "      <td>[{\"name\": \"Columbia Pictures\", \"id\": 5}, {\"nam...</td>\n",
       "      <td>[{\"iso_3166_1\": \"GB\", \"name\": \"United Kingdom\"...</td>\n",
       "      <td>2015-10-26</td>\n",
       "      <td>880674609</td>\n",
       "      <td>148.0</td>\n",
       "      <td>[{\"iso_639_1\": \"fr\", \"name\": \"Fran\\u00e7ais\"},...</td>\n",
       "      <td>Released</td>\n",
       "      <td>A Plan No One Escapes</td>\n",
       "      <td>Spectre</td>\n",
       "      <td>6.3</td>\n",
       "      <td>4466</td>\n",
       "    </tr>\n",
       "    <tr>\n",
       "      <th>3</th>\n",
       "      <td>250000000</td>\n",
       "      <td>[{\"id\": 28, \"name\": \"Action\"}, {\"id\": 80, \"nam...</td>\n",
       "      <td>http://www.thedarkknightrises.com/</td>\n",
       "      <td>49026</td>\n",
       "      <td>[{\"id\": 849, \"name\": \"dc comics\"}, {\"id\": 853,...</td>\n",
       "      <td>en</td>\n",
       "      <td>The Dark Knight Rises</td>\n",
       "      <td>Following the death of District Attorney Harve...</td>\n",
       "      <td>112.312950</td>\n",
       "      <td>[{\"name\": \"Legendary Pictures\", \"id\": 923}, {\"...</td>\n",
       "      <td>[{\"iso_3166_1\": \"US\", \"name\": \"United States o...</td>\n",
       "      <td>2012-07-16</td>\n",
       "      <td>1084939099</td>\n",
       "      <td>165.0</td>\n",
       "      <td>[{\"iso_639_1\": \"en\", \"name\": \"English\"}]</td>\n",
       "      <td>Released</td>\n",
       "      <td>The Legend Ends</td>\n",
       "      <td>The Dark Knight Rises</td>\n",
       "      <td>7.6</td>\n",
       "      <td>9106</td>\n",
       "    </tr>\n",
       "    <tr>\n",
       "      <th>4</th>\n",
       "      <td>260000000</td>\n",
       "      <td>[{\"id\": 28, \"name\": \"Action\"}, {\"id\": 12, \"nam...</td>\n",
       "      <td>http://movies.disney.com/john-carter</td>\n",
       "      <td>49529</td>\n",
       "      <td>[{\"id\": 818, \"name\": \"based on novel\"}, {\"id\":...</td>\n",
       "      <td>en</td>\n",
       "      <td>John Carter</td>\n",
       "      <td>John Carter is a war-weary, former military ca...</td>\n",
       "      <td>43.926995</td>\n",
       "      <td>[{\"name\": \"Walt Disney Pictures\", \"id\": 2}]</td>\n",
       "      <td>[{\"iso_3166_1\": \"US\", \"name\": \"United States o...</td>\n",
       "      <td>2012-03-07</td>\n",
       "      <td>284139100</td>\n",
       "      <td>132.0</td>\n",
       "      <td>[{\"iso_639_1\": \"en\", \"name\": \"English\"}]</td>\n",
       "      <td>Released</td>\n",
       "      <td>Lost in our world, found in another.</td>\n",
       "      <td>John Carter</td>\n",
       "      <td>6.1</td>\n",
       "      <td>2124</td>\n",
       "    </tr>\n",
       "  </tbody>\n",
       "</table>\n",
       "</div>"
      ],
      "text/plain": [
       "      budget                                             genres  \\\n",
       "0  237000000  [{\"id\": 28, \"name\": \"Action\"}, {\"id\": 12, \"nam...   \n",
       "1  300000000  [{\"id\": 12, \"name\": \"Adventure\"}, {\"id\": 14, \"...   \n",
       "2  245000000  [{\"id\": 28, \"name\": \"Action\"}, {\"id\": 12, \"nam...   \n",
       "3  250000000  [{\"id\": 28, \"name\": \"Action\"}, {\"id\": 80, \"nam...   \n",
       "4  260000000  [{\"id\": 28, \"name\": \"Action\"}, {\"id\": 12, \"nam...   \n",
       "\n",
       "                                       homepage      id  \\\n",
       "0                   http://www.avatarmovie.com/   19995   \n",
       "1  http://disney.go.com/disneypictures/pirates/     285   \n",
       "2   http://www.sonypictures.com/movies/spectre/  206647   \n",
       "3            http://www.thedarkknightrises.com/   49026   \n",
       "4          http://movies.disney.com/john-carter   49529   \n",
       "\n",
       "                                            keywords original_language  \\\n",
       "0  [{\"id\": 1463, \"name\": \"culture clash\"}, {\"id\":...                en   \n",
       "1  [{\"id\": 270, \"name\": \"ocean\"}, {\"id\": 726, \"na...                en   \n",
       "2  [{\"id\": 470, \"name\": \"spy\"}, {\"id\": 818, \"name...                en   \n",
       "3  [{\"id\": 849, \"name\": \"dc comics\"}, {\"id\": 853,...                en   \n",
       "4  [{\"id\": 818, \"name\": \"based on novel\"}, {\"id\":...                en   \n",
       "\n",
       "                             original_title  \\\n",
       "0                                    Avatar   \n",
       "1  Pirates of the Caribbean: At World's End   \n",
       "2                                   Spectre   \n",
       "3                     The Dark Knight Rises   \n",
       "4                               John Carter   \n",
       "\n",
       "                                            overview  popularity  \\\n",
       "0  In the 22nd century, a paraplegic Marine is di...  150.437577   \n",
       "1  Captain Barbossa, long believed to be dead, ha...  139.082615   \n",
       "2  A cryptic message from Bond’s past sends him o...  107.376788   \n",
       "3  Following the death of District Attorney Harve...  112.312950   \n",
       "4  John Carter is a war-weary, former military ca...   43.926995   \n",
       "\n",
       "                                production_companies  \\\n",
       "0  [{\"name\": \"Ingenious Film Partners\", \"id\": 289...   \n",
       "1  [{\"name\": \"Walt Disney Pictures\", \"id\": 2}, {\"...   \n",
       "2  [{\"name\": \"Columbia Pictures\", \"id\": 5}, {\"nam...   \n",
       "3  [{\"name\": \"Legendary Pictures\", \"id\": 923}, {\"...   \n",
       "4        [{\"name\": \"Walt Disney Pictures\", \"id\": 2}]   \n",
       "\n",
       "                                production_countries release_date     revenue  \\\n",
       "0  [{\"iso_3166_1\": \"US\", \"name\": \"United States o...   2009-12-10  2787965087   \n",
       "1  [{\"iso_3166_1\": \"US\", \"name\": \"United States o...   2007-05-19   961000000   \n",
       "2  [{\"iso_3166_1\": \"GB\", \"name\": \"United Kingdom\"...   2015-10-26   880674609   \n",
       "3  [{\"iso_3166_1\": \"US\", \"name\": \"United States o...   2012-07-16  1084939099   \n",
       "4  [{\"iso_3166_1\": \"US\", \"name\": \"United States o...   2012-03-07   284139100   \n",
       "\n",
       "   runtime                                   spoken_languages    status  \\\n",
       "0    162.0  [{\"iso_639_1\": \"en\", \"name\": \"English\"}, {\"iso...  Released   \n",
       "1    169.0           [{\"iso_639_1\": \"en\", \"name\": \"English\"}]  Released   \n",
       "2    148.0  [{\"iso_639_1\": \"fr\", \"name\": \"Fran\\u00e7ais\"},...  Released   \n",
       "3    165.0           [{\"iso_639_1\": \"en\", \"name\": \"English\"}]  Released   \n",
       "4    132.0           [{\"iso_639_1\": \"en\", \"name\": \"English\"}]  Released   \n",
       "\n",
       "                                          tagline  \\\n",
       "0                     Enter the World of Pandora.   \n",
       "1  At the end of the world, the adventure begins.   \n",
       "2                           A Plan No One Escapes   \n",
       "3                                 The Legend Ends   \n",
       "4            Lost in our world, found in another.   \n",
       "\n",
       "                                      title  vote_average  vote_count  \n",
       "0                                    Avatar           7.2       11800  \n",
       "1  Pirates of the Caribbean: At World's End           6.9        4500  \n",
       "2                                   Spectre           6.3        4466  \n",
       "3                     The Dark Knight Rises           7.6        9106  \n",
       "4                               John Carter           6.1        2124  "
      ]
     },
     "execution_count": 2,
     "metadata": {},
     "output_type": "execute_result"
    }
   ],
   "source": [
    "# Load our data and print out a few lines.\n",
    "df = pd.read_csv('../input/tmdb-movie-metadata/tmdb_5000_movies.csv')\n",
    "df.head()"
   ]
  },
  {
   "cell_type": "code",
   "execution_count": 3,
   "id": "136af473",
   "metadata": {
    "execution": {
     "iopub.execute_input": "2021-11-03T20:21:27.107773Z",
     "iopub.status.busy": "2021-11-03T20:21:27.107300Z",
     "iopub.status.idle": "2021-11-03T20:21:27.115708Z",
     "shell.execute_reply": "2021-11-03T20:21:27.116118Z",
     "shell.execute_reply.started": "2021-11-03T20:20:17.445692Z"
    },
    "papermill": {
     "duration": 0.038811,
     "end_time": "2021-11-03T20:21:27.116221",
     "exception": false,
     "start_time": "2021-11-03T20:21:27.077410",
     "status": "completed"
    },
    "tags": []
   },
   "outputs": [
    {
     "data": {
      "text/plain": [
       "budget                     0\n",
       "genres                     0\n",
       "homepage                3091\n",
       "id                         0\n",
       "keywords                   0\n",
       "original_language          0\n",
       "original_title             0\n",
       "overview                   3\n",
       "popularity                 0\n",
       "production_companies       0\n",
       "production_countries       0\n",
       "release_date               1\n",
       "revenue                    0\n",
       "runtime                    2\n",
       "spoken_languages           0\n",
       "status                     0\n",
       "tagline                  844\n",
       "title                      0\n",
       "vote_average               0\n",
       "vote_count                 0\n",
       "dtype: int64"
      ]
     },
     "execution_count": 3,
     "metadata": {},
     "output_type": "execute_result"
    }
   ],
   "source": [
    "# Perform operations to inspect data\n",
    "# types and look for instances of missing or possibly errant data.\n",
    "df.isnull().sum()"
   ]
  },
  {
   "cell_type": "markdown",
   "id": "53dcb368",
   "metadata": {
    "papermill": {
     "duration": 0.02767,
     "end_time": "2021-11-03T20:21:27.171859",
     "exception": false,
     "start_time": "2021-11-03T20:21:27.144189",
     "status": "completed"
    },
    "tags": []
   },
   "source": []
  },
  {
   "cell_type": "markdown",
   "id": "c1a4ac91",
   "metadata": {
    "papermill": {
     "duration": 0.027739,
     "end_time": "2021-11-03T20:21:27.227465",
     "exception": false,
     "start_time": "2021-11-03T20:21:27.199726",
     "status": "completed"
    },
    "tags": []
   },
   "source": [
    "There is a lot if missing data in the coloumn \"**homepage**\" and \"**tagline**\" but dont worry we can drop this columns because we don't need it in analysis.\n",
    "<br>also we can drop any columns or rows don't give us valuable information and fill the missing data that can use in analysis."
   ]
  },
  {
   "cell_type": "code",
   "execution_count": 4,
   "id": "a6b6d7cb",
   "metadata": {
    "execution": {
     "iopub.execute_input": "2021-11-03T20:21:27.285883Z",
     "iopub.status.busy": "2021-11-03T20:21:27.285451Z",
     "iopub.status.idle": "2021-11-03T20:21:27.296106Z",
     "shell.execute_reply": "2021-11-03T20:21:27.295732Z",
     "shell.execute_reply.started": "2021-11-03T20:20:17.465128Z"
    },
    "papermill": {
     "duration": 0.040645,
     "end_time": "2021-11-03T20:21:27.296196",
     "exception": false,
     "start_time": "2021-11-03T20:21:27.255551",
     "status": "completed"
    },
    "tags": []
   },
   "outputs": [],
   "source": [
    "df.drop(['homepage','tagline','id'], axis = 1,inplace = True) "
   ]
  },
  {
   "cell_type": "code",
   "execution_count": 5,
   "id": "3f2b14c8",
   "metadata": {
    "execution": {
     "iopub.execute_input": "2021-11-03T20:21:27.355186Z",
     "iopub.status.busy": "2021-11-03T20:21:27.354766Z",
     "iopub.status.idle": "2021-11-03T20:21:27.358218Z",
     "shell.execute_reply": "2021-11-03T20:21:27.358657Z",
     "shell.execute_reply.started": "2021-11-03T20:20:17.477153Z"
    },
    "papermill": {
     "duration": 0.034363,
     "end_time": "2021-11-03T20:21:27.358757",
     "exception": false,
     "start_time": "2021-11-03T20:21:27.324394",
     "status": "completed"
    },
    "tags": []
   },
   "outputs": [
    {
     "data": {
      "text/plain": [
       "(4803, 17)"
      ]
     },
     "execution_count": 5,
     "metadata": {},
     "output_type": "execute_result"
    }
   ],
   "source": [
    "df.shape"
   ]
  },
  {
   "cell_type": "markdown",
   "id": "ec7aeb6d",
   "metadata": {
    "papermill": {
     "duration": 0.028108,
     "end_time": "2021-11-03T20:21:27.414922",
     "exception": false,
     "start_time": "2021-11-03T20:21:27.386814",
     "status": "completed"
    },
    "tags": []
   },
   "source": [
    "There is two missing data in runtime columns we can fill it by the avarage runtime"
   ]
  },
  {
   "cell_type": "code",
   "execution_count": 6,
   "id": "b69b1869",
   "metadata": {
    "execution": {
     "iopub.execute_input": "2021-11-03T20:21:27.475208Z",
     "iopub.status.busy": "2021-11-03T20:21:27.474723Z",
     "iopub.status.idle": "2021-11-03T20:21:27.479757Z",
     "shell.execute_reply": "2021-11-03T20:21:27.480155Z",
     "shell.execute_reply.started": "2021-11-03T20:20:17.491214Z"
    },
    "papermill": {
     "duration": 0.036933,
     "end_time": "2021-11-03T20:21:27.480306",
     "exception": false,
     "start_time": "2021-11-03T20:21:27.443373",
     "status": "completed"
    },
    "tags": []
   },
   "outputs": [],
   "source": [
    "df['runtime'].fillna(df['runtime'].mean(),inplace=True)"
   ]
  },
  {
   "cell_type": "markdown",
   "id": "f3064891",
   "metadata": {
    "papermill": {
     "duration": 0.027991,
     "end_time": "2021-11-03T20:21:27.537267",
     "exception": false,
     "start_time": "2021-11-03T20:21:27.509276",
     "status": "completed"
    },
    "tags": []
   },
   "source": [
    "Then drop the rest of rows with missing data"
   ]
  },
  {
   "cell_type": "code",
   "execution_count": 7,
   "id": "84fc1fa0",
   "metadata": {
    "execution": {
     "iopub.execute_input": "2021-11-03T20:21:27.600014Z",
     "iopub.status.busy": "2021-11-03T20:21:27.599456Z",
     "iopub.status.idle": "2021-11-03T20:21:27.606838Z",
     "shell.execute_reply": "2021-11-03T20:21:27.607234Z",
     "shell.execute_reply.started": "2021-11-03T20:20:17.505643Z"
    },
    "papermill": {
     "duration": 0.041983,
     "end_time": "2021-11-03T20:21:27.607387",
     "exception": false,
     "start_time": "2021-11-03T20:21:27.565404",
     "status": "completed"
    },
    "tags": []
   },
   "outputs": [],
   "source": [
    "df.dropna(inplace = True)"
   ]
  },
  {
   "cell_type": "markdown",
   "id": "034443b7",
   "metadata": {
    "papermill": {
     "duration": 0.027873,
     "end_time": "2021-11-03T20:21:27.664274",
     "exception": false,
     "start_time": "2021-11-03T20:21:27.636401",
     "status": "completed"
    },
    "tags": []
   },
   "source": [
    "Now we can make sure we have not any missing data"
   ]
  },
  {
   "cell_type": "code",
   "execution_count": 8,
   "id": "da165768",
   "metadata": {
    "execution": {
     "iopub.execute_input": "2021-11-03T20:21:27.724229Z",
     "iopub.status.busy": "2021-11-03T20:21:27.723533Z",
     "iopub.status.idle": "2021-11-03T20:21:27.735297Z",
     "shell.execute_reply": "2021-11-03T20:21:27.734908Z",
     "shell.execute_reply.started": "2021-11-03T20:20:17.528504Z"
    },
    "papermill": {
     "duration": 0.042751,
     "end_time": "2021-11-03T20:21:27.735436",
     "exception": false,
     "start_time": "2021-11-03T20:21:27.692685",
     "status": "completed"
    },
    "tags": []
   },
   "outputs": [
    {
     "data": {
      "text/plain": [
       "budget                  0\n",
       "genres                  0\n",
       "keywords                0\n",
       "original_language       0\n",
       "original_title          0\n",
       "overview                0\n",
       "popularity              0\n",
       "production_companies    0\n",
       "production_countries    0\n",
       "release_date            0\n",
       "revenue                 0\n",
       "runtime                 0\n",
       "spoken_languages        0\n",
       "status                  0\n",
       "title                   0\n",
       "vote_average            0\n",
       "vote_count              0\n",
       "dtype: int64"
      ]
     },
     "execution_count": 8,
     "metadata": {},
     "output_type": "execute_result"
    }
   ],
   "source": [
    "df.isnull().sum()"
   ]
  },
  {
   "cell_type": "code",
   "execution_count": 9,
   "id": "00c938cd",
   "metadata": {
    "execution": {
     "iopub.execute_input": "2021-11-03T20:21:27.799455Z",
     "iopub.status.busy": "2021-11-03T20:21:27.798848Z",
     "iopub.status.idle": "2021-11-03T20:21:27.801682Z",
     "shell.execute_reply": "2021-11-03T20:21:27.802111Z",
     "shell.execute_reply.started": "2021-11-03T20:20:17.550755Z"
    },
    "papermill": {
     "duration": 0.036914,
     "end_time": "2021-11-03T20:21:27.802244",
     "exception": false,
     "start_time": "2021-11-03T20:21:27.765330",
     "status": "completed"
    },
    "tags": []
   },
   "outputs": [
    {
     "data": {
      "text/plain": [
       "(4799, 17)"
      ]
     },
     "execution_count": 9,
     "metadata": {},
     "output_type": "execute_result"
    }
   ],
   "source": [
    "df.shape"
   ]
  },
  {
   "cell_type": "markdown",
   "id": "36391514",
   "metadata": {
    "papermill": {
     "duration": 0.028655,
     "end_time": "2021-11-03T20:21:27.859677",
     "exception": false,
     "start_time": "2021-11-03T20:21:27.831022",
     "status": "completed"
    },
    "tags": []
   },
   "source": [
    "Also we have not any duplicates "
   ]
  },
  {
   "cell_type": "code",
   "execution_count": 10,
   "id": "6011b218",
   "metadata": {
    "execution": {
     "iopub.execute_input": "2021-11-03T20:21:27.921765Z",
     "iopub.status.busy": "2021-11-03T20:21:27.921274Z",
     "iopub.status.idle": "2021-11-03T20:21:27.948664Z",
     "shell.execute_reply": "2021-11-03T20:21:27.949259Z",
     "shell.execute_reply.started": "2021-11-03T20:20:17.566991Z"
    },
    "papermill": {
     "duration": 0.060784,
     "end_time": "2021-11-03T20:21:27.949473",
     "exception": false,
     "start_time": "2021-11-03T20:21:27.888689",
     "status": "completed"
    },
    "tags": []
   },
   "outputs": [
    {
     "data": {
      "text/plain": [
       "0"
      ]
     },
     "execution_count": 10,
     "metadata": {},
     "output_type": "execute_result"
    }
   ],
   "source": [
    "df.duplicated().sum()"
   ]
  },
  {
   "cell_type": "markdown",
   "id": "fb046117",
   "metadata": {
    "papermill": {
     "duration": 0.045713,
     "end_time": "2021-11-03T20:21:28.045576",
     "exception": false,
     "start_time": "2021-11-03T20:21:27.999863",
     "status": "completed"
    },
    "tags": []
   },
   "source": [
    "We can take a look at datarypes and edit it if needed "
   ]
  },
  {
   "cell_type": "code",
   "execution_count": 11,
   "id": "c2f6d62f",
   "metadata": {
    "execution": {
     "iopub.execute_input": "2021-11-03T20:21:28.142214Z",
     "iopub.status.busy": "2021-11-03T20:21:28.141063Z",
     "iopub.status.idle": "2021-11-03T20:21:28.162332Z",
     "shell.execute_reply": "2021-11-03T20:21:28.161858Z",
     "shell.execute_reply.started": "2021-11-03T20:20:17.603500Z"
    },
    "papermill": {
     "duration": 0.070494,
     "end_time": "2021-11-03T20:21:28.162457",
     "exception": false,
     "start_time": "2021-11-03T20:21:28.091963",
     "status": "completed"
    },
    "tags": []
   },
   "outputs": [
    {
     "name": "stdout",
     "output_type": "stream",
     "text": [
      "<class 'pandas.core.frame.DataFrame'>\n",
      "Int64Index: 4799 entries, 0 to 4802\n",
      "Data columns (total 17 columns):\n",
      " #   Column                Non-Null Count  Dtype  \n",
      "---  ------                --------------  -----  \n",
      " 0   budget                4799 non-null   int64  \n",
      " 1   genres                4799 non-null   object \n",
      " 2   keywords              4799 non-null   object \n",
      " 3   original_language     4799 non-null   object \n",
      " 4   original_title        4799 non-null   object \n",
      " 5   overview              4799 non-null   object \n",
      " 6   popularity            4799 non-null   float64\n",
      " 7   production_companies  4799 non-null   object \n",
      " 8   production_countries  4799 non-null   object \n",
      " 9   release_date          4799 non-null   object \n",
      " 10  revenue               4799 non-null   int64  \n",
      " 11  runtime               4799 non-null   float64\n",
      " 12  spoken_languages      4799 non-null   object \n",
      " 13  status                4799 non-null   object \n",
      " 14  title                 4799 non-null   object \n",
      " 15  vote_average          4799 non-null   float64\n",
      " 16  vote_count            4799 non-null   int64  \n",
      "dtypes: float64(3), int64(3), object(11)\n",
      "memory usage: 674.9+ KB\n"
     ]
    }
   ],
   "source": [
    "df.info()"
   ]
  },
  {
   "cell_type": "markdown",
   "id": "0d7fd6d3",
   "metadata": {
    "papermill": {
     "duration": 0.029855,
     "end_time": "2021-11-03T20:21:28.222805",
     "exception": false,
     "start_time": "2021-11-03T20:21:28.192950",
     "status": "completed"
    },
    "tags": []
   },
   "source": [
    "We can add a new column \"year\" to make it easier while working with date"
   ]
  },
  {
   "cell_type": "code",
   "execution_count": 12,
   "id": "4928b4e2",
   "metadata": {
    "execution": {
     "iopub.execute_input": "2021-11-03T20:21:28.293519Z",
     "iopub.status.busy": "2021-11-03T20:21:28.292965Z",
     "iopub.status.idle": "2021-11-03T20:21:28.306223Z",
     "shell.execute_reply": "2021-11-03T20:21:28.306672Z",
     "shell.execute_reply.started": "2021-11-03T20:20:17.629427Z"
    },
    "papermill": {
     "duration": 0.048912,
     "end_time": "2021-11-03T20:21:28.306789",
     "exception": false,
     "start_time": "2021-11-03T20:21:28.257877",
     "status": "completed"
    },
    "tags": []
   },
   "outputs": [
    {
     "data": {
      "text/plain": [
       "0       2009\n",
       "1       2007\n",
       "2       2015\n",
       "3       2012\n",
       "4       2012\n",
       "        ... \n",
       "4798    1992\n",
       "4799    2011\n",
       "4800    2013\n",
       "4801    2012\n",
       "4802    2005\n",
       "Name: year, Length: 4799, dtype: int64"
      ]
     },
     "execution_count": 12,
     "metadata": {},
     "output_type": "execute_result"
    }
   ],
   "source": [
    "df['release_date'] = pd.to_datetime(df['release_date'])\n",
    "df['year'] = df['release_date'].dt.year\n",
    "df['year']"
   ]
  },
  {
   "cell_type": "markdown",
   "id": "11e36893",
   "metadata": {
    "papermill": {
     "duration": 0.030079,
     "end_time": "2021-11-03T20:21:28.369674",
     "exception": false,
     "start_time": "2021-11-03T20:21:28.339595",
     "status": "completed"
    },
    "tags": []
   },
   "source": [
    "Now we have a clean dataset we can work on to drive some questons and answer it freely <br> let's explore our data "
   ]
  },
  {
   "cell_type": "markdown",
   "id": "9e2e2b51",
   "metadata": {
    "papermill": {
     "duration": 0.030072,
     "end_time": "2021-11-03T20:21:28.429866",
     "exception": false,
     "start_time": "2021-11-03T20:21:28.399794",
     "status": "completed"
    },
    "tags": []
   },
   "source": [
    "<a id='eda'></a>\n",
    "## Exploratory Data Analysis\n",
    "\n",
    "> Now let's try to exploare columns and variables and show some statistics\n",
    " \n"
   ]
  },
  {
   "cell_type": "code",
   "execution_count": 13,
   "id": "04927739",
   "metadata": {
    "execution": {
     "iopub.execute_input": "2021-11-03T20:21:28.494074Z",
     "iopub.status.busy": "2021-11-03T20:21:28.493401Z",
     "iopub.status.idle": "2021-11-03T20:21:28.510059Z",
     "shell.execute_reply": "2021-11-03T20:21:28.510523Z",
     "shell.execute_reply.started": "2021-11-03T20:20:17.646665Z"
    },
    "papermill": {
     "duration": 0.050168,
     "end_time": "2021-11-03T20:21:28.510645",
     "exception": false,
     "start_time": "2021-11-03T20:21:28.460477",
     "status": "completed"
    },
    "tags": []
   },
   "outputs": [
    {
     "data": {
      "text/html": [
       "<div>\n",
       "<style scoped>\n",
       "    .dataframe tbody tr th:only-of-type {\n",
       "        vertical-align: middle;\n",
       "    }\n",
       "\n",
       "    .dataframe tbody tr th {\n",
       "        vertical-align: top;\n",
       "    }\n",
       "\n",
       "    .dataframe thead th {\n",
       "        text-align: right;\n",
       "    }\n",
       "</style>\n",
       "<table border=\"1\" class=\"dataframe\">\n",
       "  <thead>\n",
       "    <tr style=\"text-align: right;\">\n",
       "      <th></th>\n",
       "      <th>budget</th>\n",
       "      <th>genres</th>\n",
       "      <th>keywords</th>\n",
       "      <th>original_language</th>\n",
       "      <th>original_title</th>\n",
       "      <th>overview</th>\n",
       "      <th>popularity</th>\n",
       "      <th>production_companies</th>\n",
       "      <th>production_countries</th>\n",
       "      <th>release_date</th>\n",
       "      <th>revenue</th>\n",
       "      <th>runtime</th>\n",
       "      <th>spoken_languages</th>\n",
       "      <th>status</th>\n",
       "      <th>title</th>\n",
       "      <th>vote_average</th>\n",
       "      <th>vote_count</th>\n",
       "      <th>year</th>\n",
       "    </tr>\n",
       "  </thead>\n",
       "  <tbody>\n",
       "    <tr>\n",
       "      <th>0</th>\n",
       "      <td>237000000</td>\n",
       "      <td>[{\"id\": 28, \"name\": \"Action\"}, {\"id\": 12, \"nam...</td>\n",
       "      <td>[{\"id\": 1463, \"name\": \"culture clash\"}, {\"id\":...</td>\n",
       "      <td>en</td>\n",
       "      <td>Avatar</td>\n",
       "      <td>In the 22nd century, a paraplegic Marine is di...</td>\n",
       "      <td>150.437577</td>\n",
       "      <td>[{\"name\": \"Ingenious Film Partners\", \"id\": 289...</td>\n",
       "      <td>[{\"iso_3166_1\": \"US\", \"name\": \"United States o...</td>\n",
       "      <td>2009-12-10</td>\n",
       "      <td>2787965087</td>\n",
       "      <td>162.0</td>\n",
       "      <td>[{\"iso_639_1\": \"en\", \"name\": \"English\"}, {\"iso...</td>\n",
       "      <td>Released</td>\n",
       "      <td>Avatar</td>\n",
       "      <td>7.2</td>\n",
       "      <td>11800</td>\n",
       "      <td>2009</td>\n",
       "    </tr>\n",
       "  </tbody>\n",
       "</table>\n",
       "</div>"
      ],
      "text/plain": [
       "      budget                                             genres  \\\n",
       "0  237000000  [{\"id\": 28, \"name\": \"Action\"}, {\"id\": 12, \"nam...   \n",
       "\n",
       "                                            keywords original_language  \\\n",
       "0  [{\"id\": 1463, \"name\": \"culture clash\"}, {\"id\":...                en   \n",
       "\n",
       "  original_title                                           overview  \\\n",
       "0         Avatar  In the 22nd century, a paraplegic Marine is di...   \n",
       "\n",
       "   popularity                               production_companies  \\\n",
       "0  150.437577  [{\"name\": \"Ingenious Film Partners\", \"id\": 289...   \n",
       "\n",
       "                                production_countries release_date     revenue  \\\n",
       "0  [{\"iso_3166_1\": \"US\", \"name\": \"United States o...   2009-12-10  2787965087   \n",
       "\n",
       "   runtime                                   spoken_languages    status  \\\n",
       "0    162.0  [{\"iso_639_1\": \"en\", \"name\": \"English\"}, {\"iso...  Released   \n",
       "\n",
       "    title  vote_average  vote_count  year  \n",
       "0  Avatar           7.2       11800  2009  "
      ]
     },
     "execution_count": 13,
     "metadata": {},
     "output_type": "execute_result"
    }
   ],
   "source": [
    "# exploare columns\n",
    "df.head(1)"
   ]
  },
  {
   "cell_type": "code",
   "execution_count": 14,
   "id": "49b74d3b",
   "metadata": {
    "execution": {
     "iopub.execute_input": "2021-11-03T20:21:28.577488Z",
     "iopub.status.busy": "2021-11-03T20:21:28.576834Z",
     "iopub.status.idle": "2021-11-03T20:21:28.605563Z",
     "shell.execute_reply": "2021-11-03T20:21:28.606064Z",
     "shell.execute_reply.started": "2021-11-03T20:20:17.670368Z"
    },
    "papermill": {
     "duration": 0.064521,
     "end_time": "2021-11-03T20:21:28.606213",
     "exception": false,
     "start_time": "2021-11-03T20:21:28.541692",
     "status": "completed"
    },
    "tags": []
   },
   "outputs": [
    {
     "data": {
      "text/html": [
       "<div>\n",
       "<style scoped>\n",
       "    .dataframe tbody tr th:only-of-type {\n",
       "        vertical-align: middle;\n",
       "    }\n",
       "\n",
       "    .dataframe tbody tr th {\n",
       "        vertical-align: top;\n",
       "    }\n",
       "\n",
       "    .dataframe thead th {\n",
       "        text-align: right;\n",
       "    }\n",
       "</style>\n",
       "<table border=\"1\" class=\"dataframe\">\n",
       "  <thead>\n",
       "    <tr style=\"text-align: right;\">\n",
       "      <th></th>\n",
       "      <th>budget</th>\n",
       "      <th>popularity</th>\n",
       "      <th>revenue</th>\n",
       "      <th>runtime</th>\n",
       "      <th>vote_average</th>\n",
       "      <th>vote_count</th>\n",
       "      <th>year</th>\n",
       "    </tr>\n",
       "  </thead>\n",
       "  <tbody>\n",
       "    <tr>\n",
       "      <th>count</th>\n",
       "      <td>4.799000e+03</td>\n",
       "      <td>4799.000000</td>\n",
       "      <td>4.799000e+03</td>\n",
       "      <td>4799.000000</td>\n",
       "      <td>4799.000000</td>\n",
       "      <td>4799.000000</td>\n",
       "      <td>4799.000000</td>\n",
       "    </tr>\n",
       "    <tr>\n",
       "      <th>mean</th>\n",
       "      <td>2.906593e+07</td>\n",
       "      <td>21.509884</td>\n",
       "      <td>8.232920e+07</td>\n",
       "      <td>106.903105</td>\n",
       "      <td>6.094186</td>\n",
       "      <td>690.789123</td>\n",
       "      <td>2002.461138</td>\n",
       "    </tr>\n",
       "    <tr>\n",
       "      <th>std</th>\n",
       "      <td>4.073251e+07</td>\n",
       "      <td>31.824074</td>\n",
       "      <td>1.629076e+08</td>\n",
       "      <td>22.561305</td>\n",
       "      <td>1.188340</td>\n",
       "      <td>1234.941795</td>\n",
       "      <td>12.414480</td>\n",
       "    </tr>\n",
       "    <tr>\n",
       "      <th>min</th>\n",
       "      <td>0.000000e+00</td>\n",
       "      <td>0.000372</td>\n",
       "      <td>0.000000e+00</td>\n",
       "      <td>0.000000</td>\n",
       "      <td>0.000000</td>\n",
       "      <td>0.000000</td>\n",
       "      <td>1916.000000</td>\n",
       "    </tr>\n",
       "    <tr>\n",
       "      <th>25%</th>\n",
       "      <td>8.000000e+05</td>\n",
       "      <td>4.685547</td>\n",
       "      <td>0.000000e+00</td>\n",
       "      <td>94.000000</td>\n",
       "      <td>5.600000</td>\n",
       "      <td>54.000000</td>\n",
       "      <td>1999.000000</td>\n",
       "    </tr>\n",
       "    <tr>\n",
       "      <th>50%</th>\n",
       "      <td>1.500000e+07</td>\n",
       "      <td>12.929525</td>\n",
       "      <td>1.918402e+07</td>\n",
       "      <td>103.000000</td>\n",
       "      <td>6.200000</td>\n",
       "      <td>236.000000</td>\n",
       "      <td>2005.000000</td>\n",
       "    </tr>\n",
       "    <tr>\n",
       "      <th>75%</th>\n",
       "      <td>4.000000e+07</td>\n",
       "      <td>28.350728</td>\n",
       "      <td>9.295652e+07</td>\n",
       "      <td>118.000000</td>\n",
       "      <td>6.800000</td>\n",
       "      <td>737.500000</td>\n",
       "      <td>2011.000000</td>\n",
       "    </tr>\n",
       "    <tr>\n",
       "      <th>max</th>\n",
       "      <td>3.800000e+08</td>\n",
       "      <td>875.581305</td>\n",
       "      <td>2.787965e+09</td>\n",
       "      <td>338.000000</td>\n",
       "      <td>10.000000</td>\n",
       "      <td>13752.000000</td>\n",
       "      <td>2017.000000</td>\n",
       "    </tr>\n",
       "  </tbody>\n",
       "</table>\n",
       "</div>"
      ],
      "text/plain": [
       "             budget   popularity       revenue      runtime  vote_average  \\\n",
       "count  4.799000e+03  4799.000000  4.799000e+03  4799.000000   4799.000000   \n",
       "mean   2.906593e+07    21.509884  8.232920e+07   106.903105      6.094186   \n",
       "std    4.073251e+07    31.824074  1.629076e+08    22.561305      1.188340   \n",
       "min    0.000000e+00     0.000372  0.000000e+00     0.000000      0.000000   \n",
       "25%    8.000000e+05     4.685547  0.000000e+00    94.000000      5.600000   \n",
       "50%    1.500000e+07    12.929525  1.918402e+07   103.000000      6.200000   \n",
       "75%    4.000000e+07    28.350728  9.295652e+07   118.000000      6.800000   \n",
       "max    3.800000e+08   875.581305  2.787965e+09   338.000000     10.000000   \n",
       "\n",
       "         vote_count         year  \n",
       "count   4799.000000  4799.000000  \n",
       "mean     690.789123  2002.461138  \n",
       "std     1234.941795    12.414480  \n",
       "min        0.000000  1916.000000  \n",
       "25%       54.000000  1999.000000  \n",
       "50%      236.000000  2005.000000  \n",
       "75%      737.500000  2011.000000  \n",
       "max    13752.000000  2017.000000  "
      ]
     },
     "execution_count": 14,
     "metadata": {},
     "output_type": "execute_result"
    }
   ],
   "source": [
    "# showing some statistcs\n",
    "df.describe()"
   ]
  },
  {
   "cell_type": "markdown",
   "id": "77a6fc9c",
   "metadata": {
    "papermill": {
     "duration": 0.031787,
     "end_time": "2021-11-03T20:21:28.678271",
     "exception": false,
     "start_time": "2021-11-03T20:21:28.646484",
     "status": "completed"
    },
    "tags": []
   },
   "source": [
    "from this slight statistics <br>\n",
    "* I think there is a postive correlation between budget spend and revenue\n",
    "* Also this is amazing to have at least one movie with high vote_average\n",
    "* Its a little weird to have a movie with 0 run time"
   ]
  },
  {
   "cell_type": "markdown",
   "id": "543abb64",
   "metadata": {
    "papermill": {
     "duration": 0.031461,
     "end_time": "2021-11-03T20:21:28.741199",
     "exception": false,
     "start_time": "2021-11-03T20:21:28.709738",
     "status": "completed"
    },
    "tags": []
   },
   "source": [
    "### How we can find Movies are most popular from all years or specific year or period time ?\n"
   ]
  },
  {
   "cell_type": "code",
   "execution_count": 15,
   "id": "20a8e9d6",
   "metadata": {
    "execution": {
     "iopub.execute_input": "2021-11-03T20:21:28.810270Z",
     "iopub.status.busy": "2021-11-03T20:21:28.809812Z",
     "iopub.status.idle": "2021-11-03T20:21:28.811635Z",
     "shell.execute_reply": "2021-11-03T20:21:28.812054Z",
     "shell.execute_reply.started": "2021-11-03T20:20:17.712346Z"
    },
    "papermill": {
     "duration": 0.038801,
     "end_time": "2021-11-03T20:21:28.812171",
     "exception": false,
     "start_time": "2021-11-03T20:21:28.773370",
     "status": "completed"
    },
    "tags": []
   },
   "outputs": [],
   "source": [
    "def get_insights_popularity(year_1 = 0 , year_2 = 0) :\n",
    "    # this function will give us the most popular genres \n",
    "    # Parameters :\n",
    "    #    year_1 : int ( year between 1960 to 2016)\n",
    "    #           if you not give any number the function will give you insights of all years\n",
    "    #           if you give a specific year the function will give you insights of this years\n",
    "    #    year_2 : int (year between year_1 to 2016)\n",
    "    #            if you give a specific year the function will give you insights between year_1 and year_2\n",
    "    sorted_popularity = df.sort_values(by = 'popularity',ascending= False)\n",
    "    if year_2 == 0 :\n",
    "        year_2 = year_1\n",
    "    if year_1 != 0 :\n",
    "        sorted_popularity.query('year >= @year_1 and year <= @year_2',inplace = True)\n",
    "    plt.subplots(figsize=(10,8))\n",
    "    plt.gca().invert_yaxis()\n",
    "    plt.barh(sorted_popularity['title'].head(10),sorted_popularity['popularity'].head(10))"
   ]
  },
  {
   "cell_type": "markdown",
   "id": "40a31d63",
   "metadata": {
    "papermill": {
     "duration": 0.030951,
     "end_time": "2021-11-03T20:21:28.873967",
     "exception": false,
     "start_time": "2021-11-03T20:21:28.843016",
     "status": "completed"
    },
    "tags": []
   },
   "source": [
    "## Which movie have high popularity over all years ?"
   ]
  },
  {
   "cell_type": "markdown",
   "id": "bc609c63",
   "metadata": {
    "papermill": {
     "duration": 0.031747,
     "end_time": "2021-11-03T20:21:28.936782",
     "exception": false,
     "start_time": "2021-11-03T20:21:28.905035",
     "status": "completed"
    },
    "tags": []
   },
   "source": [
    "if you not give the function any parameter the function will give you insights of all years"
   ]
  },
  {
   "cell_type": "code",
   "execution_count": 16,
   "id": "66c86eb1",
   "metadata": {
    "execution": {
     "iopub.execute_input": "2021-11-03T20:21:29.001882Z",
     "iopub.status.busy": "2021-11-03T20:21:29.001439Z",
     "iopub.status.idle": "2021-11-03T20:21:29.237322Z",
     "shell.execute_reply": "2021-11-03T20:21:29.237780Z",
     "shell.execute_reply.started": "2021-11-03T20:20:17.721022Z"
    },
    "papermill": {
     "duration": 0.269851,
     "end_time": "2021-11-03T20:21:29.237907",
     "exception": false,
     "start_time": "2021-11-03T20:21:28.968056",
     "status": "completed"
    },
    "tags": []
   },
   "outputs": [
    {
     "data": {
      "image/png": "[encoded data removed]",
      "text/plain": [
       "<Figure size 720x576 with 1 Axes>"
      ]
     },
     "metadata": {
      "needs_background": "light"
     },
     "output_type": "display_data"
    }
   ],
   "source": [
    "get_insights_popularity()"
   ]
  },
  {
   "cell_type": "markdown",
   "id": "e1e4f60d",
   "metadata": {
    "papermill": {
     "duration": 0.032745,
     "end_time": "2021-11-03T20:21:29.302991",
     "exception": false,
     "start_time": "2021-11-03T20:21:29.270246",
     "status": "completed"
    },
    "tags": []
   },
   "source": [
    "**Minions** movie have the most popularity all years"
   ]
  },
  {
   "cell_type": "markdown",
   "id": "0bcdca28",
   "metadata": {
    "papermill": {
     "duration": 0.03262,
     "end_time": "2021-11-03T20:21:29.367798",
     "exception": false,
     "start_time": "2021-11-03T20:21:29.335178",
     "status": "completed"
    },
    "tags": []
   },
   "source": [
    "## Which movie have the most popularity in specific year or in period time ?"
   ]
  },
  {
   "cell_type": "markdown",
   "id": "f7edcbae",
   "metadata": {
    "papermill": {
     "duration": 0.031759,
     "end_time": "2021-11-03T20:21:29.431050",
     "exception": false,
     "start_time": "2021-11-03T20:21:29.399291",
     "status": "completed"
    },
    "tags": []
   },
   "source": [
    "Here we can find which movie have the most popularity in specific year or for example between 2000 to 2015"
   ]
  },
  {
   "cell_type": "code",
   "execution_count": 17,
   "id": "8212fb38",
   "metadata": {
    "execution": {
     "iopub.execute_input": "2021-11-03T20:21:29.497971Z",
     "iopub.status.busy": "2021-11-03T20:21:29.497509Z",
     "iopub.status.idle": "2021-11-03T20:21:29.707541Z",
     "shell.execute_reply": "2021-11-03T20:21:29.706471Z",
     "shell.execute_reply.started": "2021-11-03T20:20:18.016951Z"
    },
    "papermill": {
     "duration": 0.244264,
     "end_time": "2021-11-03T20:21:29.707691",
     "exception": false,
     "start_time": "2021-11-03T20:21:29.463427",
     "status": "completed"
    },
    "tags": []
   },
   "outputs": [
    {
     "data": {
      "image/png": "[encoded data removed]",
      "text/plain": [
       "<Figure size 720x576 with 1 Axes>"
      ]
     },
     "metadata": {
      "needs_background": "light"
     },
     "output_type": "display_data"
    }
   ],
   "source": [
    "get_insights_popularity(2013)"
   ]
  },
  {
   "cell_type": "markdown",
   "id": "f43226f7",
   "metadata": {
    "papermill": {
     "duration": 0.049638,
     "end_time": "2021-11-03T20:21:29.808610",
     "exception": false,
     "start_time": "2021-11-03T20:21:29.758972",
     "status": "completed"
    },
    "tags": []
   },
   "source": [
    "the most popular movie in 2013 is **Frozen**"
   ]
  },
  {
   "cell_type": "code",
   "execution_count": 18,
   "id": "723eda59",
   "metadata": {
    "execution": {
     "iopub.execute_input": "2021-11-03T20:21:29.912219Z",
     "iopub.status.busy": "2021-11-03T20:21:29.911622Z",
     "iopub.status.idle": "2021-11-03T20:21:30.145768Z",
     "shell.execute_reply": "2021-11-03T20:21:30.146246Z",
     "shell.execute_reply.started": "2021-11-03T20:20:18.323615Z"
    },
    "papermill": {
     "duration": 0.287422,
     "end_time": "2021-11-03T20:21:30.146423",
     "exception": false,
     "start_time": "2021-11-03T20:21:29.859001",
     "status": "completed"
    },
    "tags": []
   },
   "outputs": [
    {
     "data": {
      "image/png": "[encoded data removed]",
      "text/plain": [
       "<Figure size 720x576 with 1 Axes>"
      ]
     },
     "metadata": {
      "needs_background": "light"
     },
     "output_type": "display_data"
    }
   ],
   "source": [
    "get_insights_popularity(2013,2015)"
   ]
  },
  {
   "cell_type": "markdown",
   "id": "21d43394",
   "metadata": {
    "papermill": {
     "duration": 0.050895,
     "end_time": "2021-11-03T20:21:30.247983",
     "exception": false,
     "start_time": "2021-11-03T20:21:30.197088",
     "status": "completed"
    },
    "tags": []
   },
   "source": [
    "the most popular movie from 2013 to 2015 is **Minions**"
   ]
  },
  {
   "cell_type": "markdown",
   "id": "782b9f02",
   "metadata": {
    "papermill": {
     "duration": 0.050645,
     "end_time": "2021-11-03T20:21:30.349487",
     "exception": false,
     "start_time": "2021-11-03T20:21:30.298842",
     "status": "completed"
    },
    "tags": []
   },
   "source": [
    "### How we can find Genres are most popular from all years or specific year or period time ?"
   ]
  },
  {
   "cell_type": "code",
   "execution_count": 19,
   "id": "bb9c2e13",
   "metadata": {
    "execution": {
     "iopub.execute_input": "2021-11-03T20:21:30.454101Z",
     "iopub.status.busy": "2021-11-03T20:21:30.453502Z",
     "iopub.status.idle": "2021-11-03T20:21:30.459805Z",
     "shell.execute_reply": "2021-11-03T20:21:30.460387Z",
     "shell.execute_reply.started": "2021-11-03T20:20:18.610747Z"
    },
    "papermill": {
     "duration": 0.059699,
     "end_time": "2021-11-03T20:21:30.460516",
     "exception": false,
     "start_time": "2021-11-03T20:21:30.400817",
     "status": "completed"
    },
    "tags": []
   },
   "outputs": [],
   "source": [
    "def get_insights_genres(year_1 = 0 , year_2 = 0) :\n",
    "    # this function will give us the most popular genres \n",
    "    # Parameters :\n",
    "    #    year_1 : int ( year between 1960 to 2016)\n",
    "    #           if you not give any number the function will give you insights of all years\n",
    "    #           if you give a specific year the function will give you insights of this years\n",
    "    #    year_2 : int (year between year_1 to 2016)\n",
    "    #            if you give a specific year the function will give you insights between year_1 and year_2\n",
    "    \n",
    "    sorted_popularity = df.sort_values(by = 'popularity',ascending= False)\n",
    "    if year_2 == 0 :\n",
    "        year_2 = year_1\n",
    "    if year_1 != 0 :\n",
    "        sorted_popularity.query('year >= @year_1 and year <= @year_2',inplace = True)\n",
    "    z = list()\n",
    "    print(sorted_popularity.shape)\n",
    "    counter = 0\n",
    "    for i in sorted_popularity['genres'] :\n",
    "        i = json.loads(i)\n",
    "        for dic in i :\n",
    "            dict(dic)\n",
    "        z.append(dic.get('name'))\n",
    "        counter +=1\n",
    "        if counter >=sorted_popularity['genres'].shape[0]/2 :\n",
    "            break\n",
    "    unique_genres = set(z)\n",
    "    counts = dict()\n",
    "    for i in z:\n",
    "      counts[i] = counts.get(i, 0) + 1 \n",
    "    plt.subplots(figsize=(10,8))\n",
    "    plt.gca().invert_yaxis()\n",
    "    plt.barh(list(counts.keys()),list(counts.values()))"
   ]
  },
  {
   "cell_type": "markdown",
   "id": "ea06dcbb",
   "metadata": {
    "papermill": {
     "duration": 0.050399,
     "end_time": "2021-11-03T20:21:30.561505",
     "exception": false,
     "start_time": "2021-11-03T20:21:30.511106",
     "status": "completed"
    },
    "tags": []
   },
   "source": [
    "## Which Genres have high popularity over all years ?"
   ]
  },
  {
   "cell_type": "code",
   "execution_count": 20,
   "id": "bcbfebd6",
   "metadata": {
    "execution": {
     "iopub.execute_input": "2021-11-03T20:21:30.649710Z",
     "iopub.status.busy": "2021-11-03T20:21:30.649185Z",
     "iopub.status.idle": "2021-11-03T20:21:30.896170Z",
     "shell.execute_reply": "2021-11-03T20:21:30.895789Z",
     "shell.execute_reply.started": "2021-11-03T20:20:18.622888Z"
    },
    "papermill": {
     "duration": 0.284725,
     "end_time": "2021-11-03T20:21:30.896271",
     "exception": false,
     "start_time": "2021-11-03T20:21:30.611546",
     "status": "completed"
    },
    "tags": []
   },
   "outputs": [
    {
     "name": "stdout",
     "output_type": "stream",
     "text": [
      "(4799, 18)\n"
     ]
    },
    {
     "data": {
      "image/png": "[encoded data removed]",
      "text/plain": [
       "<Figure size 720x576 with 1 Axes>"
      ]
     },
     "metadata": {
      "needs_background": "light"
     },
     "output_type": "display_data"
    }
   ],
   "source": [
    "get_insights_genres()"
   ]
  },
  {
   "cell_type": "markdown",
   "id": "5b8e3983",
   "metadata": {
    "papermill": {
     "duration": 0.03333,
     "end_time": "2021-11-03T20:21:30.963739",
     "exception": false,
     "start_time": "2021-11-03T20:21:30.930409",
     "status": "completed"
    },
    "tags": []
   },
   "source": [
    "## Which Genres have high popularity in specific year or period time ?"
   ]
  },
  {
   "cell_type": "code",
   "execution_count": 21,
   "id": "a10f9dbe",
   "metadata": {
    "execution": {
     "iopub.execute_input": "2021-11-03T20:21:31.035639Z",
     "iopub.status.busy": "2021-11-03T20:21:31.034951Z",
     "iopub.status.idle": "2021-11-03T20:21:31.309219Z",
     "shell.execute_reply": "2021-11-03T20:21:31.308791Z",
     "shell.execute_reply.started": "2021-11-03T20:20:18.986723Z"
    },
    "papermill": {
     "duration": 0.311919,
     "end_time": "2021-11-03T20:21:31.309325",
     "exception": false,
     "start_time": "2021-11-03T20:21:30.997406",
     "status": "completed"
    },
    "tags": []
   },
   "outputs": [
    {
     "name": "stdout",
     "output_type": "stream",
     "text": [
      "(227, 18)\n"
     ]
    },
    {
     "data": {
      "image/png": "[encoded data removed]",
      "text/plain": [
       "<Figure size 720x576 with 1 Axes>"
      ]
     },
     "metadata": {
      "needs_background": "light"
     },
     "output_type": "display_data"
    }
   ],
   "source": [
    "get_insights_genres(2008)"
   ]
  },
  {
   "cell_type": "code",
   "execution_count": 22,
   "id": "a0c9f461",
   "metadata": {
    "execution": {
     "iopub.execute_input": "2021-11-03T20:21:31.384138Z",
     "iopub.status.busy": "2021-11-03T20:21:31.383528Z",
     "iopub.status.idle": "2021-11-03T20:21:31.668540Z",
     "shell.execute_reply": "2021-11-03T20:21:31.668059Z",
     "shell.execute_reply.started": "2021-11-03T20:20:19.311764Z"
    },
    "papermill": {
     "duration": 0.323797,
     "end_time": "2021-11-03T20:21:31.668639",
     "exception": false,
     "start_time": "2021-11-03T20:21:31.344842",
     "status": "completed"
    },
    "tags": []
   },
   "outputs": [
    {
     "name": "stdout",
     "output_type": "stream",
     "text": [
      "(656, 18)\n"
     ]
    },
    {
     "data": {
      "image/png": "[encoded data removed]",
      "text/plain": [
       "<Figure size 720x576 with 1 Axes>"
      ]
     },
     "metadata": {
      "needs_background": "light"
     },
     "output_type": "display_data"
    }
   ],
   "source": [
    "get_insights_genres(2010,2012)"
   ]
  },
  {
   "cell_type": "markdown",
   "id": "f8f61e77",
   "metadata": {
    "papermill": {
     "duration": 0.039091,
     "end_time": "2021-11-03T20:21:31.743740",
     "exception": false,
     "start_time": "2021-11-03T20:21:31.704649",
     "status": "completed"
    },
    "tags": []
   },
   "source": [
    "### What kinds of properties are associated with movies that have high revenues ?<br> or Is there a relation between budget and revenue ?"
   ]
  },
  {
   "cell_type": "code",
   "execution_count": 23,
   "id": "eb23a3a7",
   "metadata": {
    "execution": {
     "iopub.execute_input": "2021-11-03T20:21:31.821029Z",
     "iopub.status.busy": "2021-11-03T20:21:31.820567Z",
     "iopub.status.idle": "2021-11-03T20:21:31.826563Z",
     "shell.execute_reply": "2021-11-03T20:21:31.826910Z",
     "shell.execute_reply.started": "2021-11-03T20:20:19.654699Z"
    },
    "papermill": {
     "duration": 0.045754,
     "end_time": "2021-11-03T20:21:31.827018",
     "exception": false,
     "start_time": "2021-11-03T20:21:31.781264",
     "status": "completed"
    },
    "tags": []
   },
   "outputs": [],
   "source": [
    "def companies_make_moveis_with_high_revenues() :\n",
    "    sorted_revenues = df.sort_values(by = 'revenue',ascending= False)\n",
    "    low_revenues = df[df['revenue'] < df['revenue'].median()]\n",
    "    high_revenues = df[df['revenue'] >= df['revenue'].median()]\n",
    "    z = list()\n",
    "    print(high_revenues.shape)\n",
    "    counter = 0\n",
    "    for i in high_revenues['production_companies'] :\n",
    "        i = json.loads(i)\n",
    "        for dic in i :\n",
    "            dict(dic)\n",
    "        z.append(dic.get('name'))\n",
    "    unique_genres = set(z)\n",
    "    counts = dict()\n",
    "    for i in z:\n",
    "      counts[i] = counts.get(i, 0) + 1 \n",
    "    s = pd.DataFrame(list(counts.values()),list(counts.keys()),columns=['counts'])\n",
    "    s= s.sort_values(by='counts',ascending= False)\n",
    "    print(s)"
   ]
  },
  {
   "cell_type": "code",
   "execution_count": 24,
   "id": "46e12b6c",
   "metadata": {
    "execution": {
     "iopub.execute_input": "2021-11-03T20:21:31.902442Z",
     "iopub.status.busy": "2021-11-03T20:21:31.901990Z",
     "iopub.status.idle": "2021-11-03T20:21:31.937260Z",
     "shell.execute_reply": "2021-11-03T20:21:31.936876Z",
     "shell.execute_reply.started": "2021-11-03T20:20:19.665905Z"
    },
    "papermill": {
     "duration": 0.074123,
     "end_time": "2021-11-03T20:21:31.937383",
     "exception": false,
     "start_time": "2021-11-03T20:21:31.863260",
     "status": "completed"
    },
    "tags": []
   },
   "outputs": [
    {
     "name": "stdout",
     "output_type": "stream",
     "text": [
      "(2400, 18)\n",
      "                           counts\n",
      "Warner Bros.                   91\n",
      "Paramount Pictures             45\n",
      "Touchstone Pictures            40\n",
      "Metro-Goldwyn-Mayer (MGM)      38\n",
      "Universal Pictures             32\n",
      "...                           ...\n",
      "Konrad Pictures                 1\n",
      "Loofah Productions              1\n",
      "Walwa Films S.A.                1\n",
      "Manifest Film Company           1\n",
      "Kathbur Pictures                1\n",
      "\n",
      "[1319 rows x 1 columns]\n"
     ]
    }
   ],
   "source": [
    "companies_make_moveis_with_high_revenues()"
   ]
  },
  {
   "cell_type": "code",
   "execution_count": 25,
   "id": "0da5bd06",
   "metadata": {
    "execution": {
     "iopub.execute_input": "2021-11-03T20:21:32.012075Z",
     "iopub.status.busy": "2021-11-03T20:21:32.011634Z",
     "iopub.status.idle": "2021-11-03T20:21:32.019066Z",
     "shell.execute_reply": "2021-11-03T20:21:32.019419Z",
     "shell.execute_reply.started": "2021-11-03T20:20:19.715922Z"
    },
    "papermill": {
     "duration": 0.045703,
     "end_time": "2021-11-03T20:21:32.019522",
     "exception": false,
     "start_time": "2021-11-03T20:21:31.973819",
     "status": "completed"
    },
    "tags": []
   },
   "outputs": [
    {
     "data": {
      "text/plain": [
       "(49666335.08625, 8456944.27344727)"
      ]
     },
     "execution_count": 25,
     "metadata": {},
     "output_type": "execute_result"
    }
   ],
   "source": [
    "low_revenues = df[df['revenue'] < df['revenue'].median()]\n",
    "high_revenues = df[df['revenue'] >= df['revenue'].median()]\n",
    "high_revenues['budget'].mean() , low_revenues['budget'].mean()"
   ]
  },
  {
   "cell_type": "markdown",
   "id": "e93b613a",
   "metadata": {
    "papermill": {
     "duration": 0.036267,
     "end_time": "2021-11-03T20:21:32.092124",
     "exception": false,
     "start_time": "2021-11-03T20:21:32.055857",
     "status": "completed"
    },
    "tags": []
   },
   "source": [
    "Now for sure the more budget the more revenues <br> Also Warner Bros company make a lot of revenues i think this is the best company"
   ]
  },
  {
   "cell_type": "markdown",
   "id": "4f515875",
   "metadata": {
    "papermill": {
     "duration": 0.035979,
     "end_time": "2021-11-03T20:21:32.164560",
     "exception": false,
     "start_time": "2021-11-03T20:21:32.128581",
     "status": "completed"
    },
    "tags": []
   },
   "source": [
    "### Is there a relation between budget and revenue ?"
   ]
  },
  {
   "cell_type": "code",
   "execution_count": 26,
   "id": "2cd56e33",
   "metadata": {
    "execution": {
     "iopub.execute_input": "2021-11-03T20:21:32.240028Z",
     "iopub.status.busy": "2021-11-03T20:21:32.239602Z",
     "iopub.status.idle": "2021-11-03T20:21:32.449146Z",
     "shell.execute_reply": "2021-11-03T20:21:32.448616Z",
     "shell.execute_reply.started": "2021-11-03T20:20:19.732274Z"
    },
    "papermill": {
     "duration": 0.24871,
     "end_time": "2021-11-03T20:21:32.449277",
     "exception": false,
     "start_time": "2021-11-03T20:21:32.200567",
     "status": "completed"
    },
    "tags": []
   },
   "outputs": [
    {
     "data": {
      "text/plain": [
       "<matplotlib.collections.PathCollection at 0x7fbfc84bafd0>"
      ]
     },
     "execution_count": 26,
     "metadata": {},
     "output_type": "execute_result"
    },
    {
     "data": {
      "image/png": "[encoded data removed]",
      "text/plain": [
       "<Figure size 432x288 with 1 Axes>"
      ]
     },
     "metadata": {
      "needs_background": "light"
     },
     "output_type": "display_data"
    }
   ],
   "source": [
    "plt.scatter(df['budget'],df['revenue'])"
   ]
  },
  {
   "cell_type": "markdown",
   "id": "31ffe6ac",
   "metadata": {
    "papermill": {
     "duration": 0.051697,
     "end_time": "2021-11-03T20:21:32.553755",
     "exception": false,
     "start_time": "2021-11-03T20:21:32.502058",
     "status": "completed"
    },
    "tags": []
   },
   "source": [
    "there is a positive correlation between budget and revenue"
   ]
  },
  {
   "cell_type": "markdown",
   "id": "b990c187",
   "metadata": {
    "papermill": {
     "duration": 0.051894,
     "end_time": "2021-11-03T20:21:32.658053",
     "exception": false,
     "start_time": "2021-11-03T20:21:32.606159",
     "status": "completed"
    },
    "tags": []
   },
   "source": [
    "<a id='conclusions'></a>\n",
    "## Conclusions\n",
    "\n",
    "> we analyzed this amazing dataset and find the best movies in each year and minions movie is the best movie in all years\n",
    "> Also the popular genres is thriller , drama , romance \n",
    "> there is a poisitive correlation between budget and revenues\n",
    "## Limitations\n",
    "\n",
    "> we dropped some rows maybe will affect on insights bud dont worry this is only about 5 columns"
   ]
  }
 ],
 "metadata": {
  "kernelspec": {
   "display_name": "Python 3",
   "language": "python",
   "name": "python3"
  },
  "language_info": {
   "codemirror_mode": {
    "name": "ipython",
    "version": 3
   },
   "file_extension": ".py",
   "mimetype": "text/x-python",
   "name": "python",
   "nbconvert_exporter": "python",
   "pygments_lexer": "ipython3",
   "version": "3.7.10"
  },
  "papermill": {
   "default_parameters": {},
   "duration": 13.721087,
   "end_time": "2021-11-03T20:21:33.218678",
   "environment_variables": {},
   "exception": null,
   "input_path": "__notebook__.ipynb",
   "output_path": "__notebook__.ipynb",
   "parameters": {},
   "start_time": "2021-11-03T20:21:19.497591",
   "version": "2.3.3"
  }
 },
 "nbformat": 4,
 "nbformat_minor": 5
}
